{
 "cells": [
  {
   "attachments": {},
   "cell_type": "markdown",
   "metadata": {},
   "source": [
    "## Day 3 : Containt - Function"
   ]
  },
  {
   "attachments": {},
   "cell_type": "markdown",
   "metadata": {},
   "source": [
    "### Loop"
   ]
  },
  {
   "cell_type": "code",
   "execution_count": 1,
   "metadata": {},
   "outputs": [],
   "source": [
    "l= [27,38,66,89,46,65,47,25]"
   ]
  },
  {
   "cell_type": "code",
   "execution_count": 2,
   "metadata": {},
   "outputs": [
    {
     "data": {
      "text/plain": [
       "8"
      ]
     },
     "execution_count": 2,
     "metadata": {},
     "output_type": "execute_result"
    }
   ],
   "source": [
    "len(l)"
   ]
  },
  {
   "cell_type": "code",
   "execution_count": 3,
   "metadata": {},
   "outputs": [
    {
     "name": "stdout",
     "output_type": "stream",
     "text": [
      "27\n",
      "38\n",
      "66\n",
      "89\n",
      "46\n",
      "65\n",
      "47\n",
      "25\n"
     ]
    }
   ],
   "source": [
    "for i in range(len(l)):\n",
    "    print(l[i])"
   ]
  },
  {
   "attachments": {},
   "cell_type": "markdown",
   "metadata": {},
   "source": [
    "#### Sum of Numbers in the list"
   ]
  },
  {
   "cell_type": "code",
   "execution_count": 4,
   "metadata": {},
   "outputs": [
    {
     "name": "stdout",
     "output_type": "stream",
     "text": [
      "55\n"
     ]
    }
   ],
   "source": [
    "sum = 0\n",
    "T= [1,2,3,4,5,6,7,8,9,10]\n",
    "for i in range(len(T)):\n",
    "    sum += T[i]\n",
    "\n",
    "print(sum)"
   ]
  },
  {
   "attachments": {},
   "cell_type": "markdown",
   "metadata": {},
   "source": [
    "#### Print Letters from word"
   ]
  },
  {
   "cell_type": "code",
   "execution_count": 5,
   "metadata": {},
   "outputs": [
    {
     "name": "stdout",
     "output_type": "stream",
     "text": [
      "I\n",
      "n\n",
      "d\n",
      "i\n",
      "a\n"
     ]
    }
   ],
   "source": [
    "word = \"India\"\n",
    "for letter in word:\n",
    "    print(letter)"
   ]
  },
  {
   "attachments": {},
   "cell_type": "markdown",
   "metadata": {},
   "source": [
    "#### Print Multiplication Table"
   ]
  },
  {
   "cell_type": "code",
   "execution_count": 6,
   "metadata": {},
   "outputs": [
    {
     "name": "stdout",
     "output_type": "stream",
     "text": [
      "5 * 1 = 5\n",
      "5 * 2 = 10\n",
      "5 * 3 = 15\n",
      "5 * 4 = 20\n",
      "5 * 5 = 25\n",
      "5 * 6 = 30\n",
      "5 * 7 = 35\n",
      "5 * 8 = 40\n",
      "5 * 9 = 45\n",
      "5 * 10 = 50\n"
     ]
    }
   ],
   "source": [
    "n = 5\n",
    "for i in range(1,11):\n",
    "    print(f\"{n} * {i} = {n*i}\")"
   ]
  },
  {
   "attachments": {},
   "cell_type": "markdown",
   "metadata": {},
   "source": [
    "### Factorial of Number :"
   ]
  },
  {
   "cell_type": "code",
   "execution_count": 3,
   "metadata": {},
   "outputs": [
    {
     "name": "stdout",
     "output_type": "stream",
     "text": [
      "120\n"
     ]
    }
   ],
   "source": [
    "n = int(input(\"Enter a number whose factorial we want to find  :\"))\n",
    "fact = 1\n",
    "for i in range(1,n+1):\n",
    "    fact = fact*i\n",
    "\n",
    "print(fact)"
   ]
  },
  {
   "attachments": {},
   "cell_type": "markdown",
   "metadata": {},
   "source": [
    "#### While LOOP"
   ]
  },
  {
   "cell_type": "code",
   "execution_count": 4,
   "metadata": {},
   "outputs": [
    {
     "name": "stdout",
     "output_type": "stream",
     "text": [
      " * \n",
      " *  * \n",
      " *  *  * \n",
      " *  *  *  * \n",
      " *  *  *  *  * \n"
     ]
    }
   ],
   "source": [
    "n = 5\n",
    "i =1\n",
    "\n",
    "while i<=n:\n",
    "    print(\" * \" * i)\n",
    "    i = i +1\n",
    "\n",
    "    "
   ]
  },
  {
   "cell_type": "code",
   "execution_count": 5,
   "metadata": {},
   "outputs": [
    {
     "name": "stdout",
     "output_type": "stream",
     "text": [
      " *  *  *  * \n",
      " *  *  * \n",
      " *  * \n",
      " * \n"
     ]
    }
   ],
   "source": [
    "\n",
    "i = 4\n",
    "\n",
    "while i>=1:\n",
    "    print(\" * \" * i)\n",
    "    i = i - 1"
   ]
  },
  {
   "cell_type": "code",
   "execution_count": 6,
   "metadata": {},
   "outputs": [
    {
     "name": "stdout",
     "output_type": "stream",
     "text": [
      " * \n",
      " *  * \n",
      " *  *  * \n",
      " *  *  *  * \n",
      " *  *  *  *  * \n",
      " *  *  *  * \n",
      " *  *  * \n",
      " *  * \n",
      " * \n"
     ]
    }
   ],
   "source": [
    "n = 5\n",
    "i =1\n",
    "\n",
    "while i<=n:\n",
    "    print(\" * \" * i)\n",
    "    i = i +1\n",
    "\n",
    "i = 4\n",
    "\n",
    "while i>=1:\n",
    "    print(\" * \" * i)\n",
    "    i = i - 1"
   ]
  },
  {
   "attachments": {},
   "cell_type": "markdown",
   "metadata": {},
   "source": [
    "### Pattern Print"
   ]
  },
  {
   "cell_type": "code",
   "execution_count": 8,
   "metadata": {},
   "outputs": [
    {
     "name": "stdout",
     "output_type": "stream",
     "text": [
      "P\n",
      "y\n",
      "t\n",
      "h\n",
      "o\n",
      "n\n",
      " \n",
      "I\n",
      "n\n",
      "d\n",
      "i\n",
      "a\n"
     ]
    }
   ],
   "source": [
    "string = \"Python India\"\n",
    "index = 0\n",
    "\n",
    "while index < len(string):\n",
    "    print(string[index])\n",
    "    index = index + 1"
   ]
  },
  {
   "attachments": {},
   "cell_type": "markdown",
   "metadata": {},
   "source": [
    "### Print the numbers from n to 1"
   ]
  },
  {
   "cell_type": "code",
   "execution_count": 11,
   "metadata": {},
   "outputs": [
    {
     "name": "stdout",
     "output_type": "stream",
     "text": [
      "9 , 8 , 7 , 6 , 5 , 4 , 3 , 2 , 1\n"
     ]
    }
   ],
   "source": [
    "n = int(input(\"Enter a Number : \"))\n",
    "while n >= 1:\n",
    "    print(n, end = \" , \")\n",
    "    n -= 1\n",
    "    if n == 1:\n",
    "        print(n)\n",
    "        break\n"
   ]
  },
  {
   "cell_type": "code",
   "execution_count": 39,
   "metadata": {},
   "outputs": [
    {
     "name": "stdout",
     "output_type": "stream",
     "text": [
      "[1, 2, 3, 4, 5, 6, 7, 8]\n",
      "[8, 7, 6, 5, 4, 3, 2, 1]\n",
      "[1, 2, 3, 4, 5, 6, 7, 8]\n"
     ]
    }
   ],
   "source": [
    "n = int(input(\"Enter a Number : \"))\n",
    "l = []\n",
    "for i in range(1, n):\n",
    "    l.append(i)\n",
    "\n",
    "print(l)\n",
    "l.reverse()\n",
    "print(l)\n",
    "print(list(reversed(l)))"
   ]
  },
  {
   "attachments": {},
   "cell_type": "markdown",
   "metadata": {},
   "source": [
    "### Functions :"
   ]
  },
  {
   "attachments": {},
   "cell_type": "markdown",
   "metadata": {},
   "source": [
    "#### Len function (Self Defined)"
   ]
  },
  {
   "cell_type": "code",
   "execution_count": 26,
   "metadata": {},
   "outputs": [
    {
     "name": "stdout",
     "output_type": "stream",
     "text": [
      "15\n"
     ]
    }
   ],
   "source": [
    "def length(n):\n",
    "    count = 0\n",
    "    for i in str(n):\n",
    "        count = count +1\n",
    "    print(count)\n",
    "\n",
    "length(\"Length Function\")\n",
    "\n",
    "   "
   ]
  },
  {
   "cell_type": "code",
   "execution_count": 30,
   "metadata": {},
   "outputs": [
    {
     "name": "stdout",
     "output_type": "stream",
     "text": [
      "13\n"
     ]
    }
   ],
   "source": [
    "def length(n):\n",
    "    count = 0\n",
    "    for i in str(n):\n",
    "        count = count +1\n",
    "    return count\n",
    "\n",
    "Count_length_of_String = length(str(input(\"Enter String for count its length:\")))\n",
    "print(Count_length_of_String)"
   ]
  },
  {
   "attachments": {},
   "cell_type": "markdown",
   "metadata": {},
   "source": [
    "### Add List elements"
   ]
  },
  {
   "cell_type": "code",
   "execution_count": 41,
   "metadata": {},
   "outputs": [
    {
     "name": "stdout",
     "output_type": "stream",
     "text": [
      "55\n"
     ]
    }
   ],
   "source": [
    "def sum_of_list_element():\n",
    "    L = [1,2,3,4,5,6,7,8,9,10]\n",
    "    sum = 0\n",
    "    for i in L:\n",
    "        sum += i\n",
    "    return sum\n",
    "\n",
    "sum = sum_of_list_element()\n",
    "print(sum)"
   ]
  },
  {
   "cell_type": "code",
   "execution_count": 43,
   "metadata": {},
   "outputs": [
    {
     "name": "stdout",
     "output_type": "stream",
     "text": [
      "55\n"
     ]
    }
   ],
   "source": [
    "def sum_of_list_element():\n",
    "    L = [1,2,3,\"India\",4,5,6,\"Pune\",7,8,\"Goa\",9,10]\n",
    "    sum = 0\n",
    "    for i in L:\n",
    "        if type(i) == int:\n",
    "            sum += i\n",
    "    return sum\n",
    "\n",
    "sum = sum_of_list_element()\n",
    "print(sum)"
   ]
  },
  {
   "cell_type": "code",
   "execution_count": 47,
   "metadata": {},
   "outputs": [
    {
     "name": "stdout",
     "output_type": "stream",
     "text": [
      "55\n"
     ]
    }
   ],
   "source": [
    "def sum_of_list_element(L):\n",
    "    sum = 0\n",
    "    for i in L:\n",
    "        if type(i) == int:\n",
    "            sum += i\n",
    "    return sum\n",
    "\n",
    "L1 = [1,2,3,\"India\",4,5,6,\"Pune\",7,8,\"Goa\",9,10]\n",
    "sum = sum_of_list_element(L1)\n",
    "print(sum)"
   ]
  },
  {
   "cell_type": "code",
   "execution_count": 50,
   "metadata": {},
   "outputs": [
    {
     "name": "stdout",
     "output_type": "stream",
     "text": [
      "55\n"
     ]
    }
   ],
   "source": [
    "def sum_of_list_element(MyList):\n",
    "    sum = 0\n",
    "    for i in L:\n",
    "        if type(i) == int:\n",
    "            sum += i\n",
    "    return sum\n",
    "\n",
    "L1 = [1,2,3,\"India\",4,5,6,\"Pune\",7,8,\"Goa\",9,10]\n",
    "sum = sum_of_list_element(MyList = L1)\n",
    "print(sum)"
   ]
  },
  {
   "attachments": {},
   "cell_type": "markdown",
   "metadata": {},
   "source": [
    "####  Wrie two number sum function"
   ]
  },
  {
   "cell_type": "code",
   "execution_count": 53,
   "metadata": {},
   "outputs": [
    {
     "data": {
      "text/plain": [
       "13"
      ]
     },
     "execution_count": 53,
     "metadata": {},
     "output_type": "execute_result"
    }
   ],
   "source": [
    "def two_num_sum(a,b):\n",
    "    sum = a + b\n",
    "    return sum\n",
    "\n",
    "p = 7\n",
    "q = 6\n",
    "\n",
    "two_num_sum(p,q)"
   ]
  },
  {
   "cell_type": "code",
   "execution_count": 65,
   "metadata": {},
   "outputs": [
    {
     "data": {
      "text/plain": [
       "13"
      ]
     },
     "execution_count": 65,
     "metadata": {},
     "output_type": "execute_result"
    }
   ],
   "source": [
    "def two_num_sum_1(a,b):\n",
    "    '''\n",
    "    Calculate the sum of two numbers\n",
    "    :params: 'a' is first number\n",
    "    :params: 'b' is second number    \n",
    "    :Return:  sum of two numbers\n",
    "    '''\n",
    "    sum = a + b\n",
    "    return sum\n",
    "\n",
    "p = 7\n",
    "q = 6\n",
    "\n",
    "two_num_sum_1(a = p, b = q)"
   ]
  },
  {
   "cell_type": "code",
   "execution_count": 66,
   "metadata": {},
   "outputs": [
    {
     "name": "stdout",
     "output_type": "stream",
     "text": [
      "\n",
      "    Calculate the sum of two numbers\n",
      "    :params: 'a' is first number\n",
      "    :params: 'b' is second number    \n",
      "    :Return:  sum of two numbers\n",
      "    \n"
     ]
    }
   ],
   "source": [
    "print(two_num_sum_1.__doc__)"
   ]
  },
  {
   "cell_type": "code",
   "execution_count": 68,
   "metadata": {},
   "outputs": [
    {
     "name": "stdout",
     "output_type": "stream",
     "text": [
      "['India', 'Pune', 'Goa']\n",
      "[1, 2, 3, 4, 5, 6, 7, 8, 9, 10]\n"
     ]
    }
   ],
   "source": [
    "def test1(mylist):\n",
    "    '''\n",
    "    This function seperates the integer and string elements from the given list\n",
    "    :params : list()\n",
    "    :return: string list , Integer list\n",
    "    '''\n",
    "    li_str = []\n",
    "    li_num = []\n",
    "    for i in mylist:\n",
    "        if type(i) == str:\n",
    "            li_str.append(i)\n",
    "        else:\n",
    "            li_num.append(i)\n",
    "    return li_str, li_num\n",
    "\n",
    "str_list, Number_list = test1([1,2,3,\"India\",4,5,6,\"Pune\",7,8,\"Goa\",9,10])\n",
    "print(str_list)\n",
    "print(Number_list)"
   ]
  },
  {
   "cell_type": "code",
   "execution_count": 69,
   "metadata": {},
   "outputs": [
    {
     "name": "stdout",
     "output_type": "stream",
     "text": [
      "\n",
      "    This function seperates the integer and string elements from the given list\n",
      "    :params : list()\n",
      "    :return: string list , Integer list\n",
      "    \n"
     ]
    }
   ],
   "source": [
    "print(test1.__doc__)"
   ]
  },
  {
   "cell_type": "code",
   "execution_count": 74,
   "metadata": {},
   "outputs": [
    {
     "name": "stdout",
     "output_type": "stream",
     "text": [
      "['India', 'Pune', 'Goa']\n",
      "[1, 2, 3, 4, 5, 6, 7, 8, 9, 10]\n"
     ]
    }
   ],
   "source": [
    "def test1(mylist : list()):\n",
    "    '''\n",
    "    This function seperates the integer and string elements from the given list\n",
    "    :params : list()\n",
    "    :return: string list: [] , Integer list: []\n",
    "    '''\n",
    "    li_str = []\n",
    "    li_num = []\n",
    "    for i in mylist:\n",
    "        if type(i) == str:\n",
    "            li_str.append(i)\n",
    "        else:\n",
    "            li_num.append(i)\n",
    "    return li_str, li_num\n",
    "\n",
    "str_list, Number_list = test1([1,2,3,\"India\",4,5,6,\"Pune\",7,8,\"Goa\",9,10])\n",
    "print(str_list)\n",
    "print(Number_list)"
   ]
  },
  {
   "cell_type": "code",
   "execution_count": 75,
   "metadata": {},
   "outputs": [
    {
     "name": "stdout",
     "output_type": "stream",
     "text": [
      "([], [1, 2, 3, 4, 5, 6])\n"
     ]
    }
   ],
   "source": [
    "re = test1([1,2,3,4,5,6])\n",
    "print(re)"
   ]
  },
  {
   "cell_type": "code",
   "execution_count": 76,
   "metadata": {},
   "outputs": [
    {
     "name": "stdout",
     "output_type": "stream",
     "text": [
      "\n",
      "    This function seperates the integer and string elements from the given list\n",
      "    :params : list()\n",
      "    :return: string list: [] , Integer list: []\n",
      "    \n"
     ]
    }
   ],
   "source": [
    "print(test1.__doc__)"
   ]
  }
 ],
 "metadata": {
  "kernelspec": {
   "display_name": "Python 3",
   "language": "python",
   "name": "python3"
  },
  "language_info": {
   "codemirror_mode": {
    "name": "ipython",
    "version": 3
   },
   "file_extension": ".py",
   "mimetype": "text/x-python",
   "name": "python",
   "nbconvert_exporter": "python",
   "pygments_lexer": "ipython3",
   "version": "3.10.1"
  },
  "orig_nbformat": 4,
  "vscode": {
   "interpreter": {
    "hash": "beedbe2faf2f7048d727558d0bc3221e7eba2a0b921cac4d4771b2feb8f74b30"
   }
  }
 },
 "nbformat": 4,
 "nbformat_minor": 2
}
