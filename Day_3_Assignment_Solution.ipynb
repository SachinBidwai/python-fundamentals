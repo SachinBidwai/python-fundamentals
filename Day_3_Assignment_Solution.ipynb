{
 "cells": [
  {
   "attachments": {},
   "cell_type": "markdown",
   "metadata": {},
   "source": [
    "## Day 3 Assignment solution"
   ]
  },
  {
   "attachments": {},
   "cell_type": "markdown",
   "metadata": {},
   "source": [
    "##### Q1. Write a function to find the length of string without using inbuilt \"len\" function."
   ]
  },
  {
   "cell_type": "code",
   "execution_count": 63,
   "metadata": {},
   "outputs": [
    {
     "name": "stdout",
     "output_type": "stream",
     "text": [
      "6\n"
     ]
    }
   ],
   "source": [
    "def str_length(s):\n",
    "    '''\n",
    "    Measure the length of a string\n",
    "    :params: 's' is string   \n",
    "    :Return:  integer - length of string\n",
    "    '''\n",
    "    count = 0\n",
    "    for i in str(s):\n",
    "        count = count +1\n",
    "    return count\n",
    "\n",
    "Count_length_of_String = str_length(str(input(\"Enter String for count its length:\")))\n",
    "print(Count_length_of_String)"
   ]
  },
  {
   "attachments": {},
   "cell_type": "markdown",
   "metadata": {},
   "source": [
    "##### Q2. Wite a function which will be able to print an index of list element without using index function"
   ]
  },
  {
   "cell_type": "code",
   "execution_count": 18,
   "metadata": {},
   "outputs": [
    {
     "name": "stdout",
     "output_type": "stream",
     "text": [
      "The element 2 is found at index 1.\n"
     ]
    }
   ],
   "source": [
    "def custom_index(lst, element, start=0, end=None):\n",
    "    \"\"\"\n",
    "    Custom index function that finds the index of an element in a list within a specified range.\n",
    "\n",
    "    :param lst: The list to search.\n",
    "    :param element: The element to find.\n",
    "    :param start: The starting index for the search (default is 0).\n",
    "    :param end: The ending index for the search (default is None, which means the end of the list).\n",
    "    :return: The index of the element in the list, or -1 if it's not found.\n",
    "    \"\"\"\n",
    "    if end is None:\n",
    "        end = len(lst)\n",
    "\n",
    "    for i in range(start, end):\n",
    "        if lst[i] == element:\n",
    "            return i\n",
    "    return -1\n",
    "\n",
    "# Example usage:\n",
    "my_list = [1, 2, 3, 4, 5, 2, 6, 7]\n",
    "element_to_find = 2\n",
    "\n",
    "index = custom_index(my_list, element_to_find)\n",
    "if index != -1:\n",
    "    print(f\"The element {element_to_find} is found at index {index}.\")\n",
    "else:\n",
    "    print(f\"The element {element_to_find} is not in the list.\")\n"
   ]
  },
  {
   "attachments": {},
   "cell_type": "markdown",
   "metadata": {},
   "source": [
    "##### Q3. Write a function that calculates the factorial of given positive integer."
   ]
  },
  {
   "cell_type": "code",
   "execution_count": 21,
   "metadata": {},
   "outputs": [
    {
     "name": "stdout",
     "output_type": "stream",
     "text": [
      "Factorial of 5 is 120\n"
     ]
    }
   ],
   "source": [
    "def fact(n):\n",
    "    '''\n",
    "    Find Factorial of Positive Integer.\n",
    "    :params: 'n' is integer   \n",
    "    :Return:  integer - Factorial of Number.\n",
    "    '''\n",
    "    factorial = 1\n",
    "    while n > 0:\n",
    "        factorial = factorial * n\n",
    "        n = n-1\n",
    "\n",
    "    return factorial\n",
    "\n",
    "number = int(input(\"Please enter the number for which you want to find the factorial. \"))\n",
    "result = fact(number)\n",
    "print(f\"Factorial of {number} is {result}\")"
   ]
  },
  {
   "attachments": {},
   "cell_type": "markdown",
   "metadata": {},
   "source": [
    "##### Q4. Write a program that finds the largest element in a list of numbers."
   ]
  },
  {
   "cell_type": "code",
   "execution_count": 59,
   "metadata": {},
   "outputs": [
    {
     "name": "stdout",
     "output_type": "stream",
     "text": [
      "From given list : [24, 36, 12, 102, 76, 98, 4, 15, 66, 46] Largest element is 102\n"
     ]
    }
   ],
   "source": [
    "def max_elem(lst):\n",
    "   '''\n",
    "   Measure the largest element from the list of numbers.\n",
    "   :params: 'lst' is given list.\n",
    "   :Return:  integer - largest element from the list of numbers.\n",
    "   '''\n",
    "   i = lst[0]\n",
    "   for j in lst:\n",
    "      if i<=j:\n",
    "         i=j\n",
    "      else:\n",
    "         i = i\n",
    "   return i\n",
    "\n",
    "lst = [24,36,12,102,76,98,4,15,66,46]\n",
    "max_element = max_elem(lst)\n",
    "print(f\"From given list : {lst} Largest element is {max_element}\")"
   ]
  },
  {
   "attachments": {},
   "cell_type": "markdown",
   "metadata": {},
   "source": [
    "##### Q5. Create a function that converts temperature from celsius to Fahrenheit."
   ]
  },
  {
   "cell_type": "code",
   "execution_count": 55,
   "metadata": {},
   "outputs": [
    {
     "name": "stdout",
     "output_type": "stream",
     "text": [
      "Given Temperature 38.6 C  Celsius converted to 101.48 F Fahrenheit\n"
     ]
    }
   ],
   "source": [
    "def celsius_to_fahrenheit(C):\n",
    "    '''\n",
    "    Converts temperature from celsius to Fahrenheit.\n",
    "    :params: 'C' is Temperature in Celsius   \n",
    "    :Return:  integer - Temperature in Fahrenheit. \n",
    "    '''\n",
    "    F = C*(9/5)+32\n",
    "    return F\n",
    "\n",
    "Temp = float(input(\"Enter temperature in Celsius : \"))\n",
    "Fahrenheit = celsius_to_fahrenheit(Temp)\n",
    "print(f\"Given Temperature {Temp} C  Celsius converted to {Fahrenheit} F Fahrenheit\")"
   ]
  },
  {
   "attachments": {},
   "cell_type": "markdown",
   "metadata": {},
   "source": [
    "##### Q6.Write a python function to reverse a list"
   ]
  },
  {
   "cell_type": "code",
   "execution_count": 62,
   "metadata": {},
   "outputs": [
    {
     "name": "stdout",
     "output_type": "stream",
     "text": [
      "[1, 2, 3, 4, 5, 6, 7, 8] in reverse way is [8, 7, 6, 5, 4, 3, 2, 1]\n"
     ]
    }
   ],
   "source": [
    "def Reverse_List(lst, end=None):\n",
    "    '''\n",
    "    Reverse the element from the given List.\n",
    "    :params: 'lst' is list   \n",
    "    :Return:  Reverse List. \n",
    "    '''\n",
    "    if end is None:\n",
    "        end = len(lst) - 1  # Adjust the end index\n",
    "\n",
    "    rev_lst = []\n",
    "    i = end\n",
    "    while i >= 0:\n",
    "        rev_lst.append(lst[i])\n",
    "        i -= 1\n",
    "\n",
    "    return rev_lst\n",
    "\n",
    "my_list = [1, 2, 3, 4, 5, 6, 7, 8]\n",
    "\n",
    "reverse_lst = Reverse_List(my_list)\n",
    "print(f\"{my_list} in reverse way is {reverse_lst}\")"
   ]
  },
  {
   "attachments": {},
   "cell_type": "markdown",
   "metadata": {},
   "source": [
    "##### Q7. Function to calculate the square of a number"
   ]
  },
  {
   "cell_type": "code",
   "execution_count": 41,
   "metadata": {},
   "outputs": [
    {
     "name": "stdout",
     "output_type": "stream",
     "text": [
      "The Square of 4.0 is approximately 16.00\n"
     ]
    }
   ],
   "source": [
    "def Square(n):\n",
    "    '''\n",
    "    Calculate the square of a number\n",
    "    :params: 'n' is a number   \n",
    "    :Return:  integer - square of a number\n",
    "    '''\n",
    "    square = n**2           \n",
    "    return square\n",
    "\n",
    "num = float(input(\"Please enter the number for which you want to find the Square.\"))\n",
    "num_Square = round(Square(num),2)\n",
    "print(f\"The Square of {num} is approximately {num_Square:.2f}\")"
   ]
  },
  {
   "attachments": {},
   "cell_type": "markdown",
   "metadata": {},
   "source": [
    "##### Q8. Function to check if a number is Even."
   ]
  },
  {
   "cell_type": "code",
   "execution_count": 13,
   "metadata": {},
   "outputs": [
    {
     "name": "stdout",
     "output_type": "stream",
     "text": [
      "9 is odd number.\n"
     ]
    }
   ],
   "source": [
    "def even_odd(n):\n",
    "    '''\n",
    "    check the given number is even or odd.\n",
    "    :params: 'n' is a number   \n",
    "    :Return:  integer - square of a number\n",
    "    '''\n",
    "    if n % 2 == 0:\n",
    "        print(f\"{n} is even Number.\")\n",
    "    else:\n",
    "        print(f\"{n} is odd number.\")\n",
    "\n",
    "num = int(input(\"Please enter the number for which you want to check even or odd. \"))\n",
    "even_odd(num)"
   ]
  },
  {
   "attachments": {},
   "cell_type": "markdown",
   "metadata": {},
   "source": [
    "##### Q9. Write a program that finds the lowest element in a list of numbers."
   ]
  },
  {
   "cell_type": "code",
   "execution_count": 61,
   "metadata": {},
   "outputs": [
    {
     "name": "stdout",
     "output_type": "stream",
     "text": [
      "From given list : [24, 36, 12, 102, 76, 98, 4, 15, 66, 46] Lowest element is 4\n"
     ]
    }
   ],
   "source": [
    "def min_elem(lst):\n",
    "   '''\n",
    "   Measure the Lowest element from the list of numbers.\n",
    "   :params: 'lst' is given list.\n",
    "   :Return:  integer - Lowest element from the list of numbers.\n",
    "   '''\n",
    "   i = lst[0]\n",
    "   for j in lst:\n",
    "      if i>=j:\n",
    "         i=j\n",
    "      else:\n",
    "         i = i\n",
    "   return i\n",
    "\n",
    "lst = [24,36,12,102,76,98,4,15,66,46]\n",
    "min_element = min_elem(lst)\n",
    "print(f\"From given list : {lst} Lowest element is {min_element}\")"
   ]
  },
  {
   "attachments": {},
   "cell_type": "markdown",
   "metadata": {},
   "source": [
    "##### Q10. Write a function to find the cube root of the number."
   ]
  },
  {
   "cell_type": "code",
   "execution_count": 64,
   "metadata": {},
   "outputs": [
    {
     "name": "stdout",
     "output_type": "stream",
     "text": [
      "The cube root of 27.0 is approximately 3.00\n"
     ]
    }
   ],
   "source": [
    "def Cube_Root(n):\n",
    "    '''\n",
    "    find the cube root of the given number.\n",
    "    :params: 'n' is a number   \n",
    "    :Return:  integer - Cube root of a number\n",
    "    '''\n",
    "    cube_root = n**(1/3)         \n",
    "    return cube_root\n",
    "\n",
    "num = float(input(\"Enter a number : \"))\n",
    "num_cube_root = round(Cube_Root(num),2)\n",
    "print(f\"The cube root of {num} is approximately {num_cube_root:.2f}\")\n"
   ]
  }
 ],
 "metadata": {
  "kernelspec": {
   "display_name": "Python 3",
   "language": "python",
   "name": "python3"
  },
  "language_info": {
   "codemirror_mode": {
    "name": "ipython",
    "version": 3
   },
   "file_extension": ".py",
   "mimetype": "text/x-python",
   "name": "python",
   "nbconvert_exporter": "python",
   "pygments_lexer": "ipython3",
   "version": "3.10.1"
  },
  "orig_nbformat": 4,
  "vscode": {
   "interpreter": {
    "hash": "beedbe2faf2f7048d727558d0bc3221e7eba2a0b921cac4d4771b2feb8f74b30"
   }
  }
 },
 "nbformat": 4,
 "nbformat_minor": 2
}
